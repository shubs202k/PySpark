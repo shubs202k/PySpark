{
 "cells": [
  {
   "cell_type": "markdown",
   "metadata": {},
   "source": [
    "## Required Imports"
   ]
  },
  {
   "cell_type": "code",
   "execution_count": 1,
   "metadata": {},
   "outputs": [],
   "source": [
    "import os \n",
    "import pandas as pd\n",
    "import pyspark\n",
    "\n",
    "from pyspark.sql import SparkSession, SQLContext\n",
    "from pyspark.context import SparkContext\n",
    "from pyspark.sql.functions import isnan, when, count, col, isnull, format_number, countDistinct, avg\n",
    "from pyspark.sql.functions import format_number,dayofmonth,hour,dayofyear,month,year,weekofyear,date_format"
   ]
  },
  {
   "cell_type": "code",
   "execution_count": 3,
   "metadata": {},
   "outputs": [],
   "source": [
    "## Create a spark session\n",
    "spark = SparkSession.builder.appName(\"Operations\").getOrCreate()"
   ]
  },
  {
   "cell_type": "markdown",
   "metadata": {},
   "source": [
    "## Spark DataFrame - Basic operations"
   ]
  },
  {
   "cell_type": "code",
   "execution_count": 4,
   "metadata": {},
   "outputs": [],
   "source": [
    "## Load data into a spark dataframe\n",
    "df = spark.read.csv('Seattle_Real_Time_Fire_911_Calls.csv',inferSchema = True, header = True)"
   ]
  },
  {
   "cell_type": "code",
   "execution_count": 5,
   "metadata": {},
   "outputs": [
    {
     "name": "stdout",
     "output_type": "stream",
     "text": [
      "root\n",
      " |-- Address: string (nullable = true)\n",
      " |-- Type: string (nullable = true)\n",
      " |-- Datetime: string (nullable = true)\n",
      " |-- Latitude: double (nullable = true)\n",
      " |-- Longitude: double (nullable = true)\n",
      " |-- Report Location: string (nullable = true)\n",
      " |-- Incident Number: string (nullable = true)\n",
      "\n"
     ]
    }
   ],
   "source": [
    "df.printSchema()"
   ]
  },
  {
   "cell_type": "code",
   "execution_count": 6,
   "metadata": {},
   "outputs": [
    {
     "data": {
      "text/plain": [
       "['Address',\n",
       " 'Type',\n",
       " 'Datetime',\n",
       " 'Latitude',\n",
       " 'Longitude',\n",
       " 'Report Location',\n",
       " 'Incident Number']"
      ]
     },
     "execution_count": 6,
     "metadata": {},
     "output_type": "execute_result"
    }
   ],
   "source": [
    "df.columns"
   ]
  },
  {
   "cell_type": "code",
   "execution_count": 10,
   "metadata": {},
   "outputs": [
    {
     "name": "stdout",
     "output_type": "stream",
     "text": [
      "+-------+--------------------+-----------+--------------------+-------------------+-------------------+--------------------+---------------+\n",
      "|summary|             Address|       Type|            Datetime|           Latitude|          Longitude|     Report Location|Incident Number|\n",
      "+-------+--------------------+-----------+--------------------+-------------------+-------------------+--------------------+---------------+\n",
      "|  count|             1519421|    1519478|             1519478|            1518925|            1518925|             1518949|        1519478|\n",
      "|   mean|              4809.5|       null|                null|  47.62000760881998|-122.33107982340742|                null|           null|\n",
      "| stddev|   6351.940215398757|       null|                null|0.05518436853345341|0.03115947279882827|                null|           null|\n",
      "|    min|\"47�31'53n / 122�...|1RED 1 Unit|01/01/2004 01:05:...|          47.251232|        -122.476944|POINT (-121.89549...|               |\n",
      "|    max|w stevens way/rai...| Wires Down|12/31/2019 12:59:...|          47.776695|        -121.895499|POINT (-122.47694...|     V200119798|\n",
      "+-------+--------------------+-----------+--------------------+-------------------+-------------------+--------------------+---------------+\n",
      "\n",
      "None\n"
     ]
    }
   ],
   "source": [
    "print(df.describe().show())"
   ]
  },
  {
   "cell_type": "code",
   "execution_count": 11,
   "metadata": {},
   "outputs": [
    {
     "data": {
      "text/html": [
       "<div>\n",
       "<style scoped>\n",
       "    .dataframe tbody tr th:only-of-type {\n",
       "        vertical-align: middle;\n",
       "    }\n",
       "\n",
       "    .dataframe tbody tr th {\n",
       "        vertical-align: top;\n",
       "    }\n",
       "\n",
       "    .dataframe thead th {\n",
       "        text-align: right;\n",
       "    }\n",
       "</style>\n",
       "<table border=\"1\" class=\"dataframe\">\n",
       "  <thead>\n",
       "    <tr style=\"text-align: right;\">\n",
       "      <th></th>\n",
       "      <th>count</th>\n",
       "      <th>mean</th>\n",
       "      <th>std</th>\n",
       "      <th>min</th>\n",
       "      <th>25%</th>\n",
       "      <th>50%</th>\n",
       "      <th>75%</th>\n",
       "      <th>max</th>\n",
       "    </tr>\n",
       "  </thead>\n",
       "  <tbody>\n",
       "    <tr>\n",
       "      <th>Latitude</th>\n",
       "      <td>1518925.0</td>\n",
       "      <td>47.620008</td>\n",
       "      <td>0.055184</td>\n",
       "      <td>47.251232</td>\n",
       "      <td>47.589017</td>\n",
       "      <td>47.613375</td>\n",
       "      <td>47.661661</td>\n",
       "      <td>47.776695</td>\n",
       "    </tr>\n",
       "    <tr>\n",
       "      <th>Longitude</th>\n",
       "      <td>1518925.0</td>\n",
       "      <td>-122.331080</td>\n",
       "      <td>0.031159</td>\n",
       "      <td>-122.476944</td>\n",
       "      <td>-122.348859</td>\n",
       "      <td>-122.330541</td>\n",
       "      <td>-122.312433</td>\n",
       "      <td>-121.895499</td>\n",
       "    </tr>\n",
       "  </tbody>\n",
       "</table>\n",
       "</div>"
      ],
      "text/plain": [
       "               count        mean       std         min         25%  \\\n",
       "Latitude   1518925.0   47.620008  0.055184   47.251232   47.589017   \n",
       "Longitude  1518925.0 -122.331080  0.031159 -122.476944 -122.348859   \n",
       "\n",
       "                  50%         75%         max  \n",
       "Latitude    47.613375   47.661661   47.776695  \n",
       "Longitude -122.330541 -122.312433 -121.895499  "
      ]
     },
     "execution_count": 11,
     "metadata": {},
     "output_type": "execute_result"
    }
   ],
   "source": [
    "df.toPandas().describe().transpose()"
   ]
  },
  {
   "cell_type": "code",
   "execution_count": 12,
   "metadata": {},
   "outputs": [
    {
     "name": "stdout",
     "output_type": "stream",
     "text": [
      "<class 'pandas.core.frame.DataFrame'>\n",
      "RangeIndex: 1519478 entries, 0 to 1519477\n",
      "Data columns (total 7 columns):\n",
      " #   Column           Non-Null Count    Dtype  \n",
      "---  ------           --------------    -----  \n",
      " 0   Address          1519421 non-null  object \n",
      " 1   Type             1519478 non-null  object \n",
      " 2   Datetime         1519478 non-null  object \n",
      " 3   Latitude         1518925 non-null  float64\n",
      " 4   Longitude        1518925 non-null  float64\n",
      " 5   Report Location  1518949 non-null  object \n",
      " 6   Incident Number  1519478 non-null  object \n",
      "dtypes: float64(2), object(5)\n",
      "memory usage: 81.1+ MB\n"
     ]
    }
   ],
   "source": [
    "df.toPandas().info()"
   ]
  },
  {
   "cell_type": "markdown",
   "metadata": {},
   "source": [
    "## Filter operations"
   ]
  },
  {
   "cell_type": "code",
   "execution_count": 17,
   "metadata": {},
   "outputs": [
    {
     "name": "stdout",
     "output_type": "stream",
     "text": [
      "-RECORD 0----------------------------------------\n",
      " Address         | 105 5th Av S                  \n",
      " Type            | Triaged Incident              \n",
      " Datetime        | 03/15/2020 12:16:00 AM        \n",
      " Latitude        | 47.601643                     \n",
      " Longitude       | -122.327656                   \n",
      " Report Location | POINT (-122.327656 47.601643) \n",
      " Incident Number | F200026453                    \n",
      "-RECORD 1----------------------------------------\n",
      " Address         | Nw 59th St / 15th Av Nw       \n",
      " Type            | Triaged Incident              \n",
      " Datetime        | 10/11/2019 11:34:00 PM        \n",
      " Latitude        | 47.67163                      \n",
      " Longitude       | -122.376212                   \n",
      " Report Location | POINT (-122.376212 47.67163)  \n",
      " Incident Number | F190108891                    \n",
      "-RECORD 2----------------------------------------\n",
      " Address         | 1431 Minor Av                 \n",
      " Type            | Aid Response                  \n",
      " Datetime        | 12/27/2019 01:24:00 AM        \n",
      " Latitude        | 47.613247                     \n",
      " Longitude       | -122.327187                   \n",
      " Report Location | POINT (-122.327187 47.613247) \n",
      " Incident Number | F190136279                    \n",
      "-RECORD 3----------------------------------------\n",
      " Address         | 2209 1st Av                   \n",
      " Type            | Aid Response                  \n",
      " Datetime        | 03/15/2020 12:19:00 AM        \n",
      " Latitude        | 47.612669                     \n",
      " Longitude       | -122.345319                   \n",
      " Report Location | POINT (-122.345319 47.612669) \n",
      " Incident Number | F200026454                    \n",
      "-RECORD 4----------------------------------------\n",
      " Address         | 1402 3rd Av                   \n",
      " Type            | Rescue Elevator               \n",
      " Datetime        | 05/30/2019 11:22:00 AM        \n",
      " Latitude        | 47.608766                     \n",
      " Longitude       | -122.336894                   \n",
      " Report Location | POINT (-122.336894 47.608766) \n",
      " Incident Number | F190056035                    \n",
      "only showing top 5 rows\n",
      "\n"
     ]
    }
   ],
   "source": [
    "df.filter(\"Latitude>46\").show(n = 5, truncate = False, vertical = True) # For better output view"
   ]
  },
  {
   "cell_type": "code",
   "execution_count": 18,
   "metadata": {},
   "outputs": [
    {
     "name": "stdout",
     "output_type": "stream",
     "text": [
      "-RECORD 0----------------------------------------\n",
      " Address         | 105 5th Av S                  \n",
      " Type            | Triaged Incident              \n",
      " Datetime        | 03/15/2020 12:16:00 AM        \n",
      " Latitude        | 47.601643                     \n",
      " Longitude       | -122.327656                   \n",
      " Report Location | POINT (-122.327656 47.601643) \n",
      " Incident Number | F200026453                    \n",
      "-RECORD 1----------------------------------------\n",
      " Address         | Nw 59th St / 15th Av Nw       \n",
      " Type            | Triaged Incident              \n",
      " Datetime        | 10/11/2019 11:34:00 PM        \n",
      " Latitude        | 47.67163                      \n",
      " Longitude       | -122.376212                   \n",
      " Report Location | POINT (-122.376212 47.67163)  \n",
      " Incident Number | F190108891                    \n",
      "-RECORD 2----------------------------------------\n",
      " Address         | 1431 Minor Av                 \n",
      " Type            | Aid Response                  \n",
      " Datetime        | 12/27/2019 01:24:00 AM        \n",
      " Latitude        | 47.613247                     \n",
      " Longitude       | -122.327187                   \n",
      " Report Location | POINT (-122.327187 47.613247) \n",
      " Incident Number | F190136279                    \n",
      "-RECORD 3----------------------------------------\n",
      " Address         | 2209 1st Av                   \n",
      " Type            | Aid Response                  \n",
      " Datetime        | 03/15/2020 12:19:00 AM        \n",
      " Latitude        | 47.612669                     \n",
      " Longitude       | -122.345319                   \n",
      " Report Location | POINT (-122.345319 47.612669) \n",
      " Incident Number | F200026454                    \n",
      "-RECORD 4----------------------------------------\n",
      " Address         | 1402 3rd Av                   \n",
      " Type            | Rescue Elevator               \n",
      " Datetime        | 05/30/2019 11:22:00 AM        \n",
      " Latitude        | 47.608766                     \n",
      " Longitude       | -122.336894                   \n",
      " Report Location | POINT (-122.336894 47.608766) \n",
      " Incident Number | F190056035                    \n",
      "only showing top 5 rows\n",
      "\n"
     ]
    }
   ],
   "source": [
    "df.show(n = 5, truncate = False, vertical = True)"
   ]
  },
  {
   "cell_type": "code",
   "execution_count": 19,
   "metadata": {},
   "outputs": [
    {
     "name": "stdout",
     "output_type": "stream",
     "text": [
      "+--------------------+\n",
      "|             Address|\n",
      "+--------------------+\n",
      "|        105 5th Av S|\n",
      "|Nw 59th St / 15th...|\n",
      "|       1431 Minor Av|\n",
      "|         2209 1st Av|\n",
      "|         1402 3rd Av|\n",
      "+--------------------+\n",
      "only showing top 5 rows\n",
      "\n"
     ]
    }
   ],
   "source": [
    "df.filter(\"Latitude>46\").select('Address').show(n = 5)"
   ]
  },
  {
   "cell_type": "code",
   "execution_count": 20,
   "metadata": {},
   "outputs": [
    {
     "data": {
      "text/plain": [
       "Column<b'Type'>"
      ]
     },
     "execution_count": 20,
     "metadata": {},
     "output_type": "execute_result"
    }
   ],
   "source": [
    "## Grab a single column\n",
    "df['Type']"
   ]
  },
  {
   "cell_type": "code",
   "execution_count": 21,
   "metadata": {},
   "outputs": [
    {
     "data": {
      "text/plain": [
       "pyspark.sql.column.Column"
      ]
     },
     "execution_count": 21,
     "metadata": {},
     "output_type": "execute_result"
    }
   ],
   "source": [
    "type(df['Type'])"
   ]
  },
  {
   "cell_type": "code",
   "execution_count": 22,
   "metadata": {},
   "outputs": [
    {
     "data": {
      "text/plain": [
       "DataFrame[Type: string]"
      ]
     },
     "execution_count": 22,
     "metadata": {},
     "output_type": "execute_result"
    }
   ],
   "source": [
    "df.select('Type')"
   ]
  },
  {
   "cell_type": "code",
   "execution_count": 23,
   "metadata": {},
   "outputs": [
    {
     "data": {
      "text/plain": [
       "pyspark.sql.dataframe.DataFrame"
      ]
     },
     "execution_count": 23,
     "metadata": {},
     "output_type": "execute_result"
    }
   ],
   "source": [
    "type(df.select('Type'))"
   ]
  },
  {
   "cell_type": "code",
   "execution_count": 24,
   "metadata": {},
   "outputs": [
    {
     "name": "stdout",
     "output_type": "stream",
     "text": [
      "-RECORD 0----------------\n",
      " Type | Triaged Incident \n",
      "-RECORD 1----------------\n",
      " Type | Triaged Incident \n",
      "-RECORD 2----------------\n",
      " Type | Aid Response     \n",
      "-RECORD 3----------------\n",
      " Type | Aid Response     \n",
      "-RECORD 4----------------\n",
      " Type | Rescue Elevator  \n",
      "only showing top 5 rows\n",
      "\n"
     ]
    }
   ],
   "source": [
    "df.select('Type').show(n = 5, truncate = False, vertical = True)"
   ]
  },
  {
   "cell_type": "code",
   "execution_count": 25,
   "metadata": {},
   "outputs": [
    {
     "data": {
      "text/plain": [
       "[Row(Address='105 5th Av S', Type='Triaged Incident', Datetime='03/15/2020 12:16:00 AM', Latitude=47.601643, Longitude=-122.327656, Report Location='POINT (-122.327656 47.601643)', Incident Number='F200026453'),\n",
       " Row(Address='Nw 59th St / 15th Av Nw', Type='Triaged Incident', Datetime='10/11/2019 11:34:00 PM', Latitude=47.67163, Longitude=-122.376212, Report Location='POINT (-122.376212 47.67163)', Incident Number='F190108891'),\n",
       " Row(Address='1431 Minor Av', Type='Aid Response', Datetime='12/27/2019 01:24:00 AM', Latitude=47.613247, Longitude=-122.327187, Report Location='POINT (-122.327187 47.613247)', Incident Number='F190136279'),\n",
       " Row(Address='2209 1st Av', Type='Aid Response', Datetime='03/15/2020 12:19:00 AM', Latitude=47.612669, Longitude=-122.345319, Report Location='POINT (-122.345319 47.612669)', Incident Number='F200026454'),\n",
       " Row(Address='1402 3rd Av', Type='Rescue Elevator', Datetime='05/30/2019 11:22:00 AM', Latitude=47.608766, Longitude=-122.336894, Report Location='POINT (-122.336894 47.608766)', Incident Number='F190056035')]"
      ]
     },
     "execution_count": 25,
     "metadata": {},
     "output_type": "execute_result"
    }
   ],
   "source": [
    "df.head(5) # Return list of row objects"
   ]
  },
  {
   "cell_type": "code",
   "execution_count": 26,
   "metadata": {},
   "outputs": [
    {
     "data": {
      "text/plain": [
       "DataFrame[Address: string, Type: string]"
      ]
     },
     "execution_count": 26,
     "metadata": {},
     "output_type": "execute_result"
    }
   ],
   "source": [
    "# Select multiple columns\n",
    "df.select(['Address','Type'])"
   ]
  },
  {
   "cell_type": "code",
   "execution_count": 27,
   "metadata": {},
   "outputs": [
    {
     "name": "stdout",
     "output_type": "stream",
     "text": [
      "+--------------------+--------------------+\n",
      "|             Address|                Type|\n",
      "+--------------------+--------------------+\n",
      "|        105 5th Av S|    Triaged Incident|\n",
      "|Nw 59th St / 15th...|    Triaged Incident|\n",
      "|       1431 Minor Av|        Aid Response|\n",
      "|         2209 1st Av|        Aid Response|\n",
      "|         1402 3rd Av|     Rescue Elevator|\n",
      "|         500 17th Av|        Aid Response|\n",
      "|       8319 8th Av S|    Triaged Incident|\n",
      "| 201 Occidental Av S|    Triaged Incident|\n",
      "|         1922 9th Av|Automatic Fire Al...|\n",
      "|         1526 3rd Av|        Aid Response|\n",
      "|10th Av E / E Lyn...|    Triaged Incident|\n",
      "|     1504 Ne 90th St|Automatic Medical...|\n",
      "|S Weller St / 5th...|      Medic Response|\n",
      "|4225 Roosevelt Wa...|        Aid Response|\n",
      "|3401 W Government...| Aid Response Yellow|\n",
      "|    4120 Stone Way N|        Aid Response|\n",
      "|Post Av / Columbi...|        Aid Response|\n",
      "|   3204 Sw Morgan St|        Aid Response|\n",
      "|   10756 Alton Av Ne|        Aid Response|\n",
      "|          410 9th Av|        Trans to AMR|\n",
      "+--------------------+--------------------+\n",
      "only showing top 20 rows\n",
      "\n"
     ]
    }
   ],
   "source": [
    "df.select(['Address','Type']).show()"
   ]
  },
  {
   "cell_type": "markdown",
   "metadata": {},
   "source": [
    "## Rename a column"
   ]
  },
  {
   "cell_type": "code",
   "execution_count": 29,
   "metadata": {},
   "outputs": [
    {
     "name": "stdout",
     "output_type": "stream",
     "text": [
      "-RECORD 0----------------------------------------\n",
      " Location        | 105 5th Av S                  \n",
      " Type            | Triaged Incident              \n",
      " Datetime        | 03/15/2020 12:16:00 AM        \n",
      " Latitude        | 47.601643                     \n",
      " Longitude       | -122.327656                   \n",
      " Report Location | POINT (-122.327656 47.601643) \n",
      " Incident Number | F200026453                    \n",
      "-RECORD 1----------------------------------------\n",
      " Location        | Nw 59th St / 15th Av Nw       \n",
      " Type            | Triaged Incident              \n",
      " Datetime        | 10/11/2019 11:34:00 PM        \n",
      " Latitude        | 47.67163                      \n",
      " Longitude       | -122.376212                   \n",
      " Report Location | POINT (-122.376212 47.67163)  \n",
      " Incident Number | F190108891                    \n",
      "-RECORD 2----------------------------------------\n",
      " Location        | 1431 Minor Av                 \n",
      " Type            | Aid Response                  \n",
      " Datetime        | 12/27/2019 01:24:00 AM        \n",
      " Latitude        | 47.613247                     \n",
      " Longitude       | -122.327187                   \n",
      " Report Location | POINT (-122.327187 47.613247) \n",
      " Incident Number | F190136279                    \n",
      "-RECORD 3----------------------------------------\n",
      " Location        | 2209 1st Av                   \n",
      " Type            | Aid Response                  \n",
      " Datetime        | 03/15/2020 12:19:00 AM        \n",
      " Latitude        | 47.612669                     \n",
      " Longitude       | -122.345319                   \n",
      " Report Location | POINT (-122.345319 47.612669) \n",
      " Incident Number | F200026454                    \n",
      "-RECORD 4----------------------------------------\n",
      " Location        | 1402 3rd Av                   \n",
      " Type            | Rescue Elevator               \n",
      " Datetime        | 05/30/2019 11:22:00 AM        \n",
      " Latitude        | 47.608766                     \n",
      " Longitude       | -122.336894                   \n",
      " Report Location | POINT (-122.336894 47.608766) \n",
      " Incident Number | F190056035                    \n",
      "only showing top 5 rows\n",
      "\n"
     ]
    }
   ],
   "source": [
    "df.withColumnRenamed('Address','Location').show(n = 5, truncate = False, vertical = True)"
   ]
  },
  {
   "cell_type": "code",
   "execution_count": 30,
   "metadata": {},
   "outputs": [
    {
     "data": {
      "text/plain": [
       "['Address',\n",
       " 'Type',\n",
       " 'Datetime',\n",
       " 'Latitude',\n",
       " 'Longitude',\n",
       " 'Report Location',\n",
       " 'Incident Number']"
      ]
     },
     "execution_count": 30,
     "metadata": {},
     "output_type": "execute_result"
    }
   ],
   "source": [
    "df.columns"
   ]
  },
  {
   "cell_type": "markdown",
   "metadata": {},
   "source": [
    "### Using SQL\n",
    "\n",
    "To use SQL queries directly with the dataframe, we  need to register it to a temporary view"
   ]
  },
  {
   "cell_type": "code",
   "execution_count": 31,
   "metadata": {},
   "outputs": [],
   "source": [
    "# Register the DataFrame as a SQL temporary view\n",
    "df.createOrReplaceTempView(\"fire_incidents\")"
   ]
  },
  {
   "cell_type": "code",
   "execution_count": 32,
   "metadata": {},
   "outputs": [],
   "source": [
    "sql_results = spark.sql(\"SELECT * FROM fire_incidents\")"
   ]
  },
  {
   "cell_type": "code",
   "execution_count": 34,
   "metadata": {},
   "outputs": [
    {
     "name": "stdout",
     "output_type": "stream",
     "text": [
      "+--------------------+--------------------+--------------------+---------+-----------+--------------------+---------------+\n",
      "|             Address|                Type|            Datetime| Latitude|  Longitude|     Report Location|Incident Number|\n",
      "+--------------------+--------------------+--------------------+---------+-----------+--------------------+---------------+\n",
      "|        105 5th Av S|    Triaged Incident|03/15/2020 12:16:...|47.601643|-122.327656|POINT (-122.32765...|     F200026453|\n",
      "|Nw 59th St / 15th...|    Triaged Incident|10/11/2019 11:34:...| 47.67163|-122.376212|POINT (-122.37621...|     F190108891|\n",
      "|       1431 Minor Av|        Aid Response|12/27/2019 01:24:...|47.613247|-122.327187|POINT (-122.32718...|     F190136279|\n",
      "|         2209 1st Av|        Aid Response|03/15/2020 12:19:...|47.612669|-122.345319|POINT (-122.34531...|     F200026454|\n",
      "|         1402 3rd Av|     Rescue Elevator|05/30/2019 11:22:...|47.608766|-122.336894|POINT (-122.33689...|     F190056035|\n",
      "|         500 17th Av|        Aid Response|05/30/2019 11:23:...|47.606176|-122.310249|POINT (-122.31024...|     F190056036|\n",
      "|       8319 8th Av S|    Triaged Incident|02/09/2020 11:49:...| 47.52885|-122.322876|POINT (-122.32287...|     F200014190|\n",
      "| 201 Occidental Av S|    Triaged Incident|11/12/2019 12:33:...|47.600873|-122.332877|POINT (-122.33287...|     F190120585|\n",
      "|         1922 9th Av|Automatic Fire Al...|12/27/2019 01:25:...|47.615781|-122.334715|POINT (-122.33471...|     F190136280|\n",
      "|         1526 3rd Av|        Aid Response|08/20/2019 02:40:...|47.610003|-122.338025|POINT (-122.33802...|     F190088852|\n",
      "|10th Av E / E Lyn...|    Triaged Incident|11/23/2019 03:09:...|47.639547|-122.320063|POINT (-122.32006...|     F190124479|\n",
      "|     1504 Ne 90th St|Automatic Medical...|05/30/2019 11:41:...|47.693978|-122.312101|POINT (-122.31210...|     F190056044|\n",
      "|S Weller St / 5th...|      Medic Response|10/11/2019 09:52:...|47.597517|-122.327675|POINT (-122.32767...|     F190108863|\n",
      "|4225 Roosevelt Wa...|        Aid Response|05/30/2019 11:46:...|47.657942|-122.317791|POINT (-122.31779...|     F190056046|\n",
      "|3401 W Government...| Aid Response Yellow|05/30/2019 11:49:...|47.659307|-122.400889|POINT (-122.40088...|     F190056049|\n",
      "|    4120 Stone Way N|        Aid Response|05/30/2019 11:53:...|47.657086|-122.342356|POINT (-122.34235...|     F190056050|\n",
      "|Post Av / Columbi...|        Aid Response|08/09/2019 08:22:...|47.603022|-122.335523|POINT (-122.33552...|     F190084851|\n",
      "|   3204 Sw Morgan St|        Aid Response|08/09/2019 08:23:...|47.544669|-122.373777|POINT (-122.37377...|     F190084852|\n",
      "|   10756 Alton Av Ne|        Aid Response|08/09/2019 08:25:...| 47.70673|-122.281919|POINT (-122.28191...|     F190084853|\n",
      "|          410 9th Av|        Trans to AMR|01/18/2020 08:35:...|  47.6042| -122.32351|POINT (-122.32351...|     F200006186|\n",
      "+--------------------+--------------------+--------------------+---------+-----------+--------------------+---------------+\n",
      "only showing top 20 rows\n",
      "\n"
     ]
    }
   ],
   "source": [
    "sql_results.show()"
   ]
  },
  {
   "cell_type": "markdown",
   "metadata": {},
   "source": [
    "## Using SQL syntax"
   ]
  },
  {
   "cell_type": "code",
   "execution_count": 35,
   "metadata": {},
   "outputs": [
    {
     "name": "stdout",
     "output_type": "stream",
     "text": [
      "-RECORD 0----------------------------------------\n",
      " Address         | 1431 Minor Av                 \n",
      " Type            | Aid Response                  \n",
      " Datetime        | 12/27/2019 01:24:00 AM        \n",
      " Latitude        | 47.613247                     \n",
      " Longitude       | -122.327187                   \n",
      " Report Location | POINT (-122.327187 47.613247) \n",
      " Incident Number | F190136279                    \n",
      "-RECORD 1----------------------------------------\n",
      " Address         | 2209 1st Av                   \n",
      " Type            | Aid Response                  \n",
      " Datetime        | 03/15/2020 12:19:00 AM        \n",
      " Latitude        | 47.612669                     \n",
      " Longitude       | -122.345319                   \n",
      " Report Location | POINT (-122.345319 47.612669) \n",
      " Incident Number | F200026454                    \n",
      "-RECORD 2----------------------------------------\n",
      " Address         | 500 17th Av                   \n",
      " Type            | Aid Response                  \n",
      " Datetime        | 05/30/2019 11:23:00 AM        \n",
      " Latitude        | 47.606176                     \n",
      " Longitude       | -122.310249                   \n",
      " Report Location | POINT (-122.310249 47.606176) \n",
      " Incident Number | F190056036                    \n",
      "-RECORD 3----------------------------------------\n",
      " Address         | 1526 3rd Av                   \n",
      " Type            | Aid Response                  \n",
      " Datetime        | 08/20/2019 02:40:00 AM        \n",
      " Latitude        | 47.610003                     \n",
      " Longitude       | -122.338025                   \n",
      " Report Location | POINT (-122.338025 47.610003) \n",
      " Incident Number | F190088852                    \n",
      "-RECORD 4----------------------------------------\n",
      " Address         | 4225 Roosevelt Way Ne         \n",
      " Type            | Aid Response                  \n",
      " Datetime        | 05/30/2019 11:46:00 AM        \n",
      " Latitude        | 47.657942                     \n",
      " Longitude       | -122.317791                   \n",
      " Report Location | POINT (-122.317791 47.657942) \n",
      " Incident Number | F190056046                    \n",
      "only showing top 5 rows\n",
      "\n"
     ]
    }
   ],
   "source": [
    "spark.sql(\"SELECT * FROM fire_incidents WHERE Type = 'Aid Response'\").show(n = 5, truncate = False, vertical = True)"
   ]
  },
  {
   "cell_type": "markdown",
   "metadata": {},
   "source": [
    "## Missing and Null data"
   ]
  },
  {
   "cell_type": "code",
   "execution_count": 36,
   "metadata": {},
   "outputs": [
    {
     "name": "stdout",
     "output_type": "stream",
     "text": [
      "+-------+----+--------+--------+---------+---------------+---------------+\n",
      "|Address|Type|Datetime|Latitude|Longitude|Report Location|Incident Number|\n",
      "+-------+----+--------+--------+---------+---------------+---------------+\n",
      "|      0|   0|       0|       0|        0|              0|              0|\n",
      "+-------+----+--------+--------+---------+---------------+---------------+\n",
      "\n"
     ]
    }
   ],
   "source": [
    "# Columns with missing data\n",
    "df.select([count(when(isnan(c), c)).alias(c) for c in df.columns]).show()"
   ]
  },
  {
   "cell_type": "code",
   "execution_count": 37,
   "metadata": {},
   "outputs": [
    {
     "name": "stdout",
     "output_type": "stream",
     "text": [
      "+-------+----+--------+--------+---------+---------------+---------------+\n",
      "|Address|Type|Datetime|Latitude|Longitude|Report Location|Incident Number|\n",
      "+-------+----+--------+--------+---------+---------------+---------------+\n",
      "|     57|   0|       0|     553|      553|            529|              0|\n",
      "+-------+----+--------+--------+---------+---------------+---------------+\n",
      "\n"
     ]
    }
   ],
   "source": [
    "df.select([count(when(isnull(c), c)).alias(c) for c in df.columns]).show()"
   ]
  },
  {
   "cell_type": "code",
   "execution_count": 38,
   "metadata": {},
   "outputs": [
    {
     "name": "stdout",
     "output_type": "stream",
     "text": [
      "+-------+--------------------+--------------------+--------+---------+---------------+---------------+\n",
      "|Address|                Type|            Datetime|Latitude|Longitude|Report Location|Incident Number|\n",
      "+-------+--------------------+--------------------+--------+---------+---------------+---------------+\n",
      "|   null|    Triaged Incident|12/27/2019 07:20:...|    null|     null|           null|     F190136329|\n",
      "|   null|    Triaged Incident|12/27/2019 07:12:...|    null|     null|           null|     F190136323|\n",
      "|   null|    Triaged Incident|12/27/2019 07:13:...|    null|     null|           null|     F190136324|\n",
      "|   null|    Triaged Incident|12/27/2019 07:32:...|    null|     null|           null|     F190136333|\n",
      "|   null|    Triaged Incident|12/27/2019 07:33:...|    null|     null|           null|     F190136336|\n",
      "|   null|    Triaged Incident|12/27/2019 07:15:...|    null|     null|           null|     F190136326|\n",
      "|   null|LINK - Link Contr...|08/31/2019 10:07:...|    null|     null|           null|     F190093271|\n",
      "|   null|    Triaged Incident|04/25/2020 01:43:...|    null|     null|           null|     F200039976|\n",
      "|   null|    Triaged Incident|11/03/2019 05:33:...|    null|     null|           null|     F190117326|\n",
      "|   null|    Triaged Incident|02/21/2020 11:22:...|    null|     null|           null|     F200018597|\n",
      "|   null|      Medic Response|07/03/2019 09:27:...|    null|     null|           null|     F190069676|\n",
      "|   null|Rescue Confined S...|04/28/2019 11:56:...|    null|     null|           null|     F190042515|\n",
      "|   null|        Illegal Burn|10/23/2019 09:45:...|    null|     null|           null|     F190113355|\n",
      "|   null|    Triaged Incident|12/05/2019 10:03:...|    null|     null|           null|     F190128720|\n",
      "|   null|Medic Response- 7...|04/29/2019 07:48:...|    null|     null|           null|     F190042806|\n",
      "|   null|Hazardous Mat- Sp...|08/07/2019 03:59:...|    null|     null|           null|     F190083945|\n",
      "|   null|         Tanker Fire|10/25/2019 06:49:...|    null|     null|           null|     F190113829|\n",
      "|   null|Train Derailment ...|05/27/2019 07:55:...|    null|     null|           null|     F190053978|\n",
      "|   null|Train Derailment ...|04/30/2019 10:03:...|    null|     null|           null|     F190043576|\n",
      "|   null|Rescue Confined S...|05/21/2019 06:46:...|    null|     null|           null|     F190051443|\n",
      "+-------+--------------------+--------------------+--------+---------+---------------+---------------+\n",
      "only showing top 20 rows\n",
      "\n"
     ]
    }
   ],
   "source": [
    "# Address Null\n",
    "df.where(col(\"Address\").isNull()).show()"
   ]
  },
  {
   "cell_type": "code",
   "execution_count": 39,
   "metadata": {},
   "outputs": [
    {
     "data": {
      "text/plain": [
       "1519478"
      ]
     },
     "execution_count": 39,
     "metadata": {},
     "output_type": "execute_result"
    }
   ],
   "source": [
    "# Total rows in dataframe\n",
    "df.count()"
   ]
  },
  {
   "cell_type": "code",
   "execution_count": 40,
   "metadata": {},
   "outputs": [
    {
     "data": {
      "text/plain": [
       "1518915"
      ]
     },
     "execution_count": 40,
     "metadata": {},
     "output_type": "execute_result"
    }
   ],
   "source": [
    "# Rows after droping null values\n",
    "df.na.drop(subset=[\"Address\",'Latitude','Longitude','Report Location']).count()"
   ]
  },
  {
   "cell_type": "code",
   "execution_count": 41,
   "metadata": {},
   "outputs": [],
   "source": [
    "# Drop rows with null values\n",
    "df_clean = df.na.drop(subset=[\"Address\",'Latitude','Longitude','Report Location'])"
   ]
  },
  {
   "cell_type": "code",
   "execution_count": 42,
   "metadata": {},
   "outputs": [
    {
     "data": {
      "text/plain": [
       "1518915"
      ]
     },
     "execution_count": 42,
     "metadata": {},
     "output_type": "execute_result"
    }
   ],
   "source": [
    "df_clean.count()"
   ]
  },
  {
   "cell_type": "markdown",
   "metadata": {},
   "source": [
    "## Groupby and Aggregate Functions"
   ]
  },
  {
   "cell_type": "code",
   "execution_count": 43,
   "metadata": {},
   "outputs": [
    {
     "data": {
      "text/plain": [
       "<pyspark.sql.group.GroupedData at 0x122719a50>"
      ]
     },
     "execution_count": 43,
     "metadata": {},
     "output_type": "execute_result"
    }
   ],
   "source": [
    "df.groupBy(\"Type\")"
   ]
  },
  {
   "cell_type": "code",
   "execution_count": 44,
   "metadata": {},
   "outputs": [
    {
     "name": "stdout",
     "output_type": "stream",
     "text": [
      "+--------------------+-----+\n",
      "|                Type|count|\n",
      "+--------------------+-----+\n",
      "|  Mutual Aid- Marine|    1|\n",
      "|    Rescue Saltwater|   41|\n",
      "|     3RED - 1 +1 + 1| 1156|\n",
      "|        Chimney Fire|  521|\n",
      "|        Call on hold|    4|\n",
      "|      Tunnel Standby|   10|\n",
      "|           MCI Major|    3|\n",
      "|Aid Response Freeway| 1431|\n",
      "|Medic Response, 7...|17313|\n",
      "|Scenes Of Violenc...|   36|\n",
      "|     Auto Fire Alarm|86979|\n",
      "|Natur Gas Leak In...|    9|\n",
      "|Mutual Aid- Task ...|    5|\n",
      "|Motor Vehicle Inc...|   64|\n",
      "|         Aid Service|  175|\n",
      "|Natur Gas Leak In...|    5|\n",
      "|    Aircraft Standby|    7|\n",
      "|Investigate In Se...|  889|\n",
      "|Hazardous Mat, Sp...|  237|\n",
      "|Boat Under 50' Fi...|   47|\n",
      "+--------------------+-----+\n",
      "only showing top 20 rows\n",
      "\n"
     ]
    }
   ],
   "source": [
    "df.groupBy(\"Type\").count().show()"
   ]
  },
  {
   "cell_type": "code",
   "execution_count": 45,
   "metadata": {},
   "outputs": [
    {
     "name": "stdout",
     "output_type": "stream",
     "text": [
      "+--------------------+\n",
      "|count(DISTINCT Type)|\n",
      "+--------------------+\n",
      "|                 230|\n",
      "+--------------------+\n",
      "\n"
     ]
    }
   ],
   "source": [
    "df.select(countDistinct(\"Type\")).show()"
   ]
  },
  {
   "cell_type": "markdown",
   "metadata": {},
   "source": [
    "## Orderby on dataframe with no null values"
   ]
  },
  {
   "cell_type": "code",
   "execution_count": 46,
   "metadata": {},
   "outputs": [
    {
     "name": "stdout",
     "output_type": "stream",
     "text": [
      "+--------------------+--------------------+--------------------+---------+-----------+--------------------+---------------+\n",
      "|             Address|                Type|            Datetime| Latitude|  Longitude|     Report Location|Incident Number|\n",
      "+--------------------+--------------------+--------------------+---------+-----------+--------------------+---------------+\n",
      "|   16399 Se 391st St|    Triaged Incident|06/03/2020 01:20:...|47.251232|-122.122934|POINT (-122.12293...|     V200054734|\n",
      "|       1211 Alder Ct|        Aid Response|01/27/2004 08:53:...|47.257397|-122.314562|POINT (-122.31456...|     V040009360|\n",
      "|    1914 Virginia Ct|        Aid Response|12/24/2003 11:30:...|47.258946|-122.305833|POINT (-122.30583...|     F030097654|\n",
      "|      344 50th St Se|    Triaged Incident|12/12/2019 06:08:...| 47.26188|-122.225729|POINT (-122.22572...|     V190131076|\n",
      "|      8329 44th Av S|Automatic Fire Al...|05/22/2004 11:30:...|47.262472|-122.279823|POINT (-122.27982...|     V040049648|\n",
      "|       119 4th Av Sw|         Garage Fire|07/11/2007 04:19:...|47.262828|-122.250893|POINT (-122.25089...|     V070065397|\n",
      "|        118 5th Av S|      Medic Response|01/26/2010 10:29:...|47.273906|-122.256308|POINT (-122.25630...|     V100007560|\n",
      "|2nd Av S / Washin...|         1RED 1 Unit|04/08/2018 03:38:...|47.277477|-122.247188|POINT (-122.24718...|     V180035177|\n",
      "|     1610 33rd St Se|MUK9 - FIU CAPTAI...|01/10/2011 04:54:...|47.278835|-122.207687|POINT (-122.20768...|     V110002918|\n",
      "|65th Ave Ne / 25t...|        Trans to AMR|07/22/2020 05:05:...|47.279062|-122.360806|POINT (-122.36080...|     V200071939|\n",
      "|        206 5th Av N|        Trans to AMR|12/09/2018 04:02:...|47.283803|-122.253869|POINT (-122.25386...|     V180128722|\n",
      "|        120 Broadway|     Rescue Elevator|01/21/2020 10:26:...|47.286262|-122.256409|POINT (-122.25640...|     V200007430|\n",
      "|   3702 Auburn Way S|MUK9 - FIU CAPTAI...|08/30/2010 01:52:...|47.288042|-122.177632|POINT (-122.17763...|     V100079686|\n",
      "|       315 9th Ave N|    Triaged Incident|02/11/2020 06:00:...|47.290014|-122.252293|POINT (-122.25229...|     V200015011|\n",
      "|    5th Av / John St|MVI - Motor Vehic...|05/08/2018 06:42:...|47.307853|-122.000383|POINT (-122.00038...|     V180046019|\n",
      "|  3rd Ave / James St|        Rubbish Fire|10/16/2020 09:31:...|47.314128|-122.005047|POINT (-122.00504...|     V200102914|\n",
      "|  3rd Ave / James St|        Trans to AMR|10/16/2020 06:08:...|47.314128|-122.005047|POINT (-122.00504...|     V200103073|\n",
      "|  3rd Ave / James St|        Rubbish Fire|01/14/2020 05:59:...|47.314128|-122.005047|POINT (-122.00504...|     V200004697|\n",
      "|   3rd Av / James St|      Medic Response|07/17/2008 08:31:...| 47.31414|-122.005008|POINT (-122.00500...|     V080064766|\n",
      "|   3rd Av / James St|        Aid Response|08/17/2008 04:22:...| 47.31414|-122.005008|POINT (-122.00500...|     V080076169|\n",
      "+--------------------+--------------------+--------------------+---------+-----------+--------------------+---------------+\n",
      "only showing top 20 rows\n",
      "\n"
     ]
    }
   ],
   "source": [
    "df_clean.orderBy(\"Latitude\").show(n=20) #Ascending"
   ]
  },
  {
   "cell_type": "code",
   "execution_count": 47,
   "metadata": {},
   "outputs": [
    {
     "name": "stdout",
     "output_type": "stream",
     "text": [
      "+--------------------+--------------------+--------------------+---------+-----------+--------------------+---------------+\n",
      "|             Address|                Type|            Datetime| Latitude|  Longitude|     Report Location|Incident Number|\n",
      "+--------------------+--------------------+--------------------+---------+-----------+--------------------+---------------+\n",
      "|20315 Greenwood Av N|   Single Medic Unit|11/18/2010 02:37:...|47.776695|-122.355919|POINT (-122.35591...|     B100106494|\n",
      "|20315 Greenwood Av N|        Aid Response|12/05/2010 10:50:...|47.776695|-122.355919|POINT (-122.35591...|     B100112370|\n",
      "|     420 Nw 203rd St|   Mutual Aid, Medic|12/06/2006 07:21:...|47.776643|-122.363061|POINT (-122.36306...|     B060118580|\n",
      "|     420 Nw 203rd St|   Mutual Aid, Medic|07/16/2006 07:45:...|47.776643|-122.363061|POINT (-122.36306...|     B060068467|\n",
      "|    1849 Nw 201st St|  Mutual Aid- Ladder|08/15/2019 07:35:...|47.775249|-122.380734|POINT (-122.38073...|     B190087193|\n",
      "|    2200 NE 201ST CT|  Mutual Aid, Ladder|10/07/2017 06:00:...|47.774844|-122.306587|POINT (-122.30658...|     B170104693|\n",
      "|   20101 12TH AVE NE|  Mutual Aid- Ladder|09/17/2020 12:42:...|47.774699| -122.31633|POINT (-122.31633...|     B200092936|\n",
      "|    19916 19th Av Ne|        Aid Response|09/06/2007 05:10:...|47.774038|-122.309179|POINT (-122.30917...|     B070085754|\n",
      "|     20031 6th Av Ne|   Mutual Aid, Medic|07/19/2004 06:00:...|47.773861|-122.323552|POINT (-122.32355...|     B040071550|\n",
      "|    20022 12th Av Ne|MUK9 - FIU CAPTAI...|04/04/2009 01:55:...|47.773824|-122.316342|POINT (-122.31634...|     B090028951|\n",
      "|    2943 Ne 200th St|MUK9 - FIU CAPTAI...|01/04/2010 05:35:...|47.773787|-122.298102|POINT (-122.29810...|     B100001284|\n",
      "|2300-2398 Nw 198t...|            Car Fire|10/17/2006 11:42:...|47.773461|-122.387081|POINT (-122.38708...|     B060102386|\n",
      "|        NB I5 TO 205|  Mutual Aid, Ladder|09/11/2005 03:41:...| 47.77213|-122.319965|POINT (-122.31996...|     B050087459|\n",
      "|    19663 20th Av Ne|MUK9 - FIU CAPTAI...|05/03/2011 08:03:...|47.772009|-122.308247|POINT (-122.30824...|     B110038360|\n",
      "|    19745 10th Av Ne|   Mutual Aid, Medic|12/04/2015 12:03:...|47.771736|-122.318698|POINT (-122.31869...|     B150138573|\n",
      "|    19671 15th Av Ne|  Mutual Aid, Ladder|02/23/2016 03:28:...|47.771419|-122.313446|POINT (-122.31344...|     B160021018|\n",
      "|    1525 NW 195TH ST|    4RED - 2 + 1 + 1|10/12/2016 03:03:...| 47.77064|  -122.3785|POINT (-122.3785 ...|     F160115323|\n",
      "|  522 ECHO LAKE PL N|  Mutual Aid, Engine|03/03/2008 07:58:...|47.770512|-122.345956|POINT (-122.34595...|     F080019569|\n",
      "|1406 Nw Richmond ...|  Mutual Aid, Ladder|11/11/2012 12:17:...|47.769221| -122.37582|POINT (-122.37582...|     B120107293|\n",
      "|    19420 46TH AV NE|        Aid Response|06/15/2008 01:17:...|47.769128|-122.280087|POINT (-122.28008...|     B080052977|\n",
      "+--------------------+--------------------+--------------------+---------+-----------+--------------------+---------------+\n",
      "only showing top 20 rows\n",
      "\n"
     ]
    }
   ],
   "source": [
    "df_clean.orderBy(df_clean[\"Latitude\"].desc()).show() #Descending"
   ]
  },
  {
   "cell_type": "code",
   "execution_count": null,
   "metadata": {},
   "outputs": [],
   "source": []
  }
 ],
 "metadata": {
  "kernelspec": {
   "display_name": "Python 3",
   "language": "python",
   "name": "python3"
  },
  "language_info": {
   "codemirror_mode": {
    "name": "ipython",
    "version": 3
   },
   "file_extension": ".py",
   "mimetype": "text/x-python",
   "name": "python",
   "nbconvert_exporter": "python",
   "pygments_lexer": "ipython3",
   "version": "3.7.6"
  }
 },
 "nbformat": 4,
 "nbformat_minor": 4
}
